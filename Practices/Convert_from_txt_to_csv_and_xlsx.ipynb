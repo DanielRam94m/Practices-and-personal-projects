{
  "nbformat": 4,
  "nbformat_minor": 0,
  "metadata": {
    "colab": {
      "name": "My_Python_exercises.ipynb",
      "provenance": []
    },
    "kernelspec": {
      "name": "python3",
      "display_name": "Python 3"
    },
    "language_info": {
      "name": "python"
    }
  },
  "cells": [
    {
      "cell_type": "markdown",
      "metadata": {
        "id": "YnIRHU67NOZn"
      },
      "source": [
        "## TXT to SCV"
      ]
    },
    {
      "cell_type": "code",
      "metadata": {
        "id": "q2_BXWeBM72B"
      },
      "source": [
        "import pandas as pd\n",
        "\n",
        "# Used to read the txt file\n",
        "myfile = open(\"Blackbaud1.txt\", \"r\")\n",
        "myline = myfile.readline()\n",
        "\n",
        "# Declaring the arrays we are gong to need in order to build the dataframe\n",
        "col_00 = []\n",
        "col_01 = []\n",
        "col_02 = []\n",
        "col_03 = []\n",
        "\n",
        "# Getting the lines from the txt file while not end of file\n",
        "while myline:\n",
        "    # Delleting the dupplicated spaces from the txt file\n",
        "    no_dup_spaces = \" \".join(myline.split())\n",
        "    # spliting the lines where \" \"\n",
        "    line_got = no_dup_spaces.split(\" \")\n",
        "\n",
        "    # If the line has all the atributes\n",
        "    if len(line_got) > 2:\n",
        "      # getting the full name atribute\n",
        "      myorder = [2, 0, 1]\n",
        "      last_pos = [line_got[i] for i in myorder]\n",
        "      line_got.append(\" \".join(last_pos))\n",
        "\n",
        "    # If the line has no title atribute\n",
        "    elif len(line_got) > 1:\n",
        "      line_got.append(\"\")\n",
        "      line_got.append(\" \".join(line_got))\n",
        "\n",
        "    # If there is an empty line\n",
        "    else:\n",
        "      line_got.append(\"\")\n",
        "      line_got.append(\"\")\n",
        "      line_got.append(\"\")\n",
        "    pass\n",
        "    # filling the arrays we are going to need for building the data frame\n",
        "    col_00.append(line_got[0])\n",
        "    col_01.append(line_got[1])\n",
        "    col_02.append(line_got[2])\n",
        "    col_03.append(line_got[3])\n",
        "\n",
        "    # Moving the cursor to the next line\n",
        "    myline = myfile.readline()\n",
        "\n",
        "pass\n",
        "\n",
        "# It is a goowg practice to close every file we open\n",
        "myfile.close()\n",
        "\n",
        "# Inserting the lists into the data frame \n",
        "data = {'CnBio_Name_1': col_00, 'CnBio_Name_2': col_01, \n",
        "        'CnBio_Title_1' : col_02, 'FULL NAME': col_03}  \n",
        "  \n",
        "# Create DataFrame  \n",
        "df = pd.DataFrame(data)  \n",
        "  \n",
        "# Changing from data frame format to csv and saving it\n",
        "df.to_csv(\"Name_List.csv\", index=False)"
      ],
      "execution_count": 105,
      "outputs": []
    },
    {
      "cell_type": "markdown",
      "metadata": {
        "id": "ZcUv27PmNMO7"
      },
      "source": [
        ""
      ]
    }
  ]
}